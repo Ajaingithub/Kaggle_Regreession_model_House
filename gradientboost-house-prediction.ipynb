{
 "cells": [
  {
   "cell_type": "code",
   "execution_count": 1,
   "id": "3ec9627a",
   "metadata": {
    "_cell_guid": "b1076dfc-b9ad-4769-8c92-a6c4dae69d19",
    "_uuid": "8f2839f25d086af736a60e9eeb907d3b93b6e0e5",
    "execution": {
     "iopub.execute_input": "2023-04-01T18:29:59.117521Z",
     "iopub.status.busy": "2023-04-01T18:29:59.116935Z",
     "iopub.status.idle": "2023-04-01T18:29:59.132133Z",
     "shell.execute_reply": "2023-04-01T18:29:59.130972Z"
    },
    "papermill": {
     "duration": 0.0297,
     "end_time": "2023-04-01T18:29:59.134902",
     "exception": false,
     "start_time": "2023-04-01T18:29:59.105202",
     "status": "completed"
    },
    "tags": []
   },
   "outputs": [
    {
     "name": "stdout",
     "output_type": "stream",
     "text": [
      "/kaggle/input/house-prices-advanced-regression-techniques/sample_submission.csv\n",
      "/kaggle/input/house-prices-advanced-regression-techniques/data_description.txt\n",
      "/kaggle/input/house-prices-advanced-regression-techniques/train.csv\n",
      "/kaggle/input/house-prices-advanced-regression-techniques/test.csv\n"
     ]
    }
   ],
   "source": [
    "# This Python 3 environment comes with many helpful analytics libraries installed\n",
    "# It is defined by the kaggle/python Docker image: https://github.com/kaggle/docker-python\n",
    "# For example, here's several helpful packages to load\n",
    "\n",
    "import numpy as np # linear algebra\n",
    "import pandas as pd # data processing, CSV file I/O (e.g. pd.read_csv)\n",
    "\n",
    "# Input data files are available in the read-only \"../input/\" directory\n",
    "# For example, running this (by clicking run or pressing Shift+Enter) will list all files under the input directory\n",
    "\n",
    "import os\n",
    "for dirname, _, filenames in os.walk('/kaggle/input'):\n",
    "    for filename in filenames:\n",
    "        print(os.path.join(dirname, filename))\n",
    "\n",
    "# You can write up to 20GB to the current directory (/kaggle/working/) that gets preserved as output when you create a version using \"Save & Run All\" \n",
    "# You can also write temporary files to /kaggle/temp/, but they won't be saved outside of the current session"
   ]
  },
  {
   "cell_type": "code",
   "execution_count": 2,
   "id": "e4da91de",
   "metadata": {
    "execution": {
     "iopub.execute_input": "2023-04-01T18:29:59.153662Z",
     "iopub.status.busy": "2023-04-01T18:29:59.153318Z",
     "iopub.status.idle": "2023-04-01T18:30:00.431691Z",
     "shell.execute_reply": "2023-04-01T18:30:00.430299Z"
    },
    "papermill": {
     "duration": 1.290504,
     "end_time": "2023-04-01T18:30:00.434134",
     "exception": false,
     "start_time": "2023-04-01T18:29:59.143630",
     "status": "completed"
    },
    "tags": []
   },
   "outputs": [
    {
     "name": "stdout",
     "output_type": "stream",
     "text": [
      "/kaggle/working\n",
      "(1460, 81)\n",
      "(1459, 80)\n"
     ]
    }
   ],
   "source": [
    "import numpy as np\n",
    "import pandas as pd\n",
    "import os\n",
    "import matplotlib.pyplot as plt\n",
    "import seaborn as sns\n",
    "from scipy.stats import norm\n",
    "from sklearn.preprocessing import StandardScaler\n",
    "from scipy import stats\n",
    "import warnings\n",
    "warnings.filterwarnings('ignore')\n",
    "%matplotlib inline\n",
    "print(os.getcwd())\n",
    "train_data = pd.read_csv(\"/kaggle/input/house-prices-advanced-regression-techniques/train.csv\")\n",
    "print(train_data.shape)\n",
    "test_data = pd.read_csv(\"/kaggle/input/house-prices-advanced-regression-techniques/test.csv\")\n",
    "print(test_data.shape)"
   ]
  },
  {
   "cell_type": "code",
   "execution_count": 3,
   "id": "8b52ef83",
   "metadata": {
    "execution": {
     "iopub.execute_input": "2023-04-01T18:30:00.453356Z",
     "iopub.status.busy": "2023-04-01T18:30:00.452241Z",
     "iopub.status.idle": "2023-04-01T18:30:00.461412Z",
     "shell.execute_reply": "2023-04-01T18:30:00.459956Z"
    },
    "papermill": {
     "duration": 0.020995,
     "end_time": "2023-04-01T18:30:00.463782",
     "exception": false,
     "start_time": "2023-04-01T18:30:00.442787",
     "status": "completed"
    },
    "tags": []
   },
   "outputs": [
    {
     "name": "stdout",
     "output_type": "stream",
     "text": [
      "(1460, 81)\n",
      "(1459, 80)\n"
     ]
    }
   ],
   "source": [
    "# Always make a copy of the dataframe so you can use it again from starting.\n",
    "import copy\n",
    "train_data2 = copy.deepcopy(train_data)\n",
    "test_data2 = copy.deepcopy(test_data)\n",
    "print(train_data2.shape)\n",
    "print(test_data2.shape)"
   ]
  },
  {
   "cell_type": "code",
   "execution_count": 4,
   "id": "3f13233b",
   "metadata": {
    "execution": {
     "iopub.execute_input": "2023-04-01T18:30:00.482618Z",
     "iopub.status.busy": "2023-04-01T18:30:00.482224Z",
     "iopub.status.idle": "2023-04-01T18:30:00.503628Z",
     "shell.execute_reply": "2023-04-01T18:30:00.502396Z"
    },
    "papermill": {
     "duration": 0.033336,
     "end_time": "2023-04-01T18:30:00.505839",
     "exception": false,
     "start_time": "2023-04-01T18:30:00.472503",
     "status": "completed"
    },
    "tags": []
   },
   "outputs": [
    {
     "name": "stdout",
     "output_type": "stream",
     "text": [
      "(1460, 76)\n",
      "(1459, 75)\n"
     ]
    }
   ],
   "source": [
    "## remove the missing columns > 20%\n",
    "missing_percent = train_data.isna().mean().sort_values(ascending=False)*100\n",
    "missing_percent.head(20)\n",
    "columns_to_drop = list(missing_percent[missing_percent > 20].index)\n",
    "train_data = train_data.drop(columns_to_drop, axis=1)\n",
    "test_data = test_data.drop(columns_to_drop, axis=1)\n",
    "print(train_data.shape)\n",
    "print(test_data.shape)"
   ]
  },
  {
   "cell_type": "code",
   "execution_count": 5,
   "id": "ed7393f8",
   "metadata": {
    "execution": {
     "iopub.execute_input": "2023-04-01T18:30:00.524267Z",
     "iopub.status.busy": "2023-04-01T18:30:00.523901Z",
     "iopub.status.idle": "2023-04-01T18:30:00.537904Z",
     "shell.execute_reply": "2023-04-01T18:30:00.536233Z"
    },
    "papermill": {
     "duration": 0.026806,
     "end_time": "2023-04-01T18:30:00.541229",
     "exception": false,
     "start_time": "2023-04-01T18:30:00.514423",
     "status": "completed"
    },
    "tags": []
   },
   "outputs": [
    {
     "name": "stdout",
     "output_type": "stream",
     "text": [
      "(1460, 74)\n",
      "(1459, 74)\n",
      "(1460,)\n"
     ]
    }
   ],
   "source": [
    "# Now what we will try to do we will separate out the target variable and input variable so we should not make any\n",
    "# changes in the target variable while performing the process on the input variable\n",
    "y_train = train_data['SalePrice']\n",
    "x_train = train_data.drop(['Id','SalePrice'],axis=1)\n",
    "x_test = test_data.drop(['Id'],axis=1)\n",
    "print(x_train.shape)\n",
    "print(x_test.shape)\n",
    "print(y_train.shape)"
   ]
  },
  {
   "cell_type": "code",
   "execution_count": 6,
   "id": "d6db6bef",
   "metadata": {
    "execution": {
     "iopub.execute_input": "2023-04-01T18:30:00.560448Z",
     "iopub.status.busy": "2023-04-01T18:30:00.559849Z",
     "iopub.status.idle": "2023-04-01T18:30:00.566893Z",
     "shell.execute_reply": "2023-04-01T18:30:00.565786Z"
    },
    "papermill": {
     "duration": 0.019166,
     "end_time": "2023-04-01T18:30:00.569273",
     "exception": false,
     "start_time": "2023-04-01T18:30:00.550107",
     "status": "completed"
    },
    "tags": []
   },
   "outputs": [],
   "source": [
    "## Finding out the different type of column i.e. Categorical into nominal and ordinal and then the numerical\n",
    "# For Nominal and ordinal we will take the cut off of 10\n",
    "def identify_categorical(df):\n",
    "    nominal_cols = []\n",
    "    ordinal_cols = []\n",
    "    numerical_cols = []\n",
    "    for col in df.columns:\n",
    "        if df[col].dtype == 'object':\n",
    "            if df[col].nunique() <= 10:\n",
    "                ordinal_cols.append(col)\n",
    "            else:\n",
    "                nominal_cols.append(col)\n",
    "        elif df[col].dtype != 'object':\n",
    "            numerical_cols.append(col)\n",
    "    return nominal_cols, ordinal_cols, numerical_cols"
   ]
  },
  {
   "cell_type": "code",
   "execution_count": 7,
   "id": "05092a47",
   "metadata": {
    "execution": {
     "iopub.execute_input": "2023-04-01T18:30:00.588386Z",
     "iopub.status.busy": "2023-04-01T18:30:00.587682Z",
     "iopub.status.idle": "2023-04-01T18:30:00.618822Z",
     "shell.execute_reply": "2023-04-01T18:30:00.617935Z"
    },
    "papermill": {
     "duration": 0.043351,
     "end_time": "2023-04-01T18:30:00.621210",
     "exception": false,
     "start_time": "2023-04-01T18:30:00.577859",
     "status": "completed"
    },
    "tags": []
   },
   "outputs": [
    {
     "name": "stdout",
     "output_type": "stream",
     "text": [
      "3\n",
      "3\n",
      "35\n",
      "35\n",
      "36\n",
      "36\n"
     ]
    }
   ],
   "source": [
    "train_data_nominal,train_data_ordinal,train_data_numerical= identify_categorical(x_train)\n",
    "test_data_nominal,test_data_ordinal,test_data_numerical= identify_categorical(x_test)\n",
    "print(len(train_data_nominal))\n",
    "print(len(test_data_nominal))\n",
    "print(len(train_data_ordinal))\n",
    "print(len(test_data_ordinal))\n",
    "print(len(train_data_numerical))\n",
    "print(len(test_data_numerical))"
   ]
  },
  {
   "cell_type": "code",
   "execution_count": 8,
   "id": "4a5c3683",
   "metadata": {
    "execution": {
     "iopub.execute_input": "2023-04-01T18:30:00.641324Z",
     "iopub.status.busy": "2023-04-01T18:30:00.640602Z",
     "iopub.status.idle": "2023-04-01T18:30:00.876911Z",
     "shell.execute_reply": "2023-04-01T18:30:00.875707Z"
    },
    "papermill": {
     "duration": 0.249444,
     "end_time": "2023-04-01T18:30:00.879770",
     "exception": false,
     "start_time": "2023-04-01T18:30:00.630326",
     "status": "completed"
    },
    "tags": []
   },
   "outputs": [],
   "source": [
    "import pandas as pd\n",
    "from sklearn.impute import SimpleImputer\n",
    "from sklearn.preprocessing import OrdinalEncoder, OneHotEncoder\n",
    "\n",
    "def impute_encode(df, num_cols, ordinal_cols, cat_cols, ordinal_cats=None):\n",
    "    \"\"\"\n",
    "    Imputes missing values in both numerical and categorical columns, and encodes them\n",
    "    using ordinal encoding for ordinal categories and one-hot encoding for nominal categories.\n",
    "    \n",
    "    Parameters:\n",
    "    df (pandas.DataFrame): The input DataFrame.\n",
    "    num_cols (list): A list of column names that contain numerical data.\n",
    "    ordinal_cols (list): A list of column names that contain ordinal categories.\n",
    "    cat_cols (list): A list of column names that contain nominal categories.\\\n",
    "    \n",
    "    Returns:\n",
    "    pandas.DataFrame: The transformed DataFrame.\n",
    "    \"\"\"\n",
    "    # Impute missing values in numerical columns\n",
    "    num_imputer = SimpleImputer(strategy='mean')\n",
    "    df[num_cols] = num_imputer.fit_transform(df[num_cols])\n",
    "    \n",
    "    # Impute missing values in categorical columns\n",
    "    cat_imputer = SimpleImputer(strategy='most_frequent')\n",
    "    df[cat_cols] = cat_imputer.fit_transform(df[cat_cols])\n",
    "    \n",
    "    # Impute missing values in cat_cols before one-hot encoding\n",
    "    df[ordinal_cols] = cat_imputer.fit_transform(df[ordinal_cols])\n",
    "    \n",
    "    # Encode ordinal categories using ordinal encoding\n",
    "    # ordinal_cats = ['low', 'medium', 'high']  # Example ordinal categories\n",
    "    if ordinal_cats is not None:\n",
    "        ordinal_encoder = OrdinalEncoder(categories=[ordinal_cats], dtype=int)\n",
    "    else:\n",
    "        ordinal_encoder = OrdinalEncoder(dtype=int)\n",
    "    df[ordinal_cols] = ordinal_encoder.fit_transform(df[ordinal_cols])\n",
    "    \n",
    "    # Encode nominal categories using one-hot encoding\n",
    "    onehot_encoder = OneHotEncoder()\n",
    "    df = pd.concat([df.drop(cat_cols, axis=1),\n",
    "                    pd.DataFrame(onehot_encoder.fit_transform(df[cat_cols]).toarray(),\n",
    "                                 columns=onehot_encoder.get_feature_names(cat_cols))],\n",
    "                   axis=1)\n",
    "    return df\n",
    "\n"
   ]
  },
  {
   "cell_type": "code",
   "execution_count": 9,
   "id": "ef9f71df",
   "metadata": {
    "execution": {
     "iopub.execute_input": "2023-04-01T18:30:00.904827Z",
     "iopub.status.busy": "2023-04-01T18:30:00.904153Z",
     "iopub.status.idle": "2023-04-01T18:30:01.083463Z",
     "shell.execute_reply": "2023-04-01T18:30:01.081303Z"
    },
    "papermill": {
     "duration": 0.198539,
     "end_time": "2023-04-01T18:30:01.087138",
     "exception": false,
     "start_time": "2023-04-01T18:30:00.888599",
     "status": "completed"
    },
    "tags": []
   },
   "outputs": [
    {
     "name": "stdout",
     "output_type": "stream",
     "text": [
      "(1460, 127)\n",
      "(1459, 124)\n"
     ]
    }
   ],
   "source": [
    "x_train_impute = impute_encode(x_train, num_cols=train_data_numerical, cat_cols=train_data_nominal, ordinal_cols=train_data_ordinal)\n",
    "x_test_impute = impute_encode(x_test, num_cols=test_data_numerical, cat_cols=test_data_nominal, ordinal_cols=test_data_ordinal)\n",
    "print(x_train_impute.shape)\n",
    "print(x_test_impute.shape)"
   ]
  },
  {
   "cell_type": "code",
   "execution_count": 10,
   "id": "3b38310a",
   "metadata": {
    "execution": {
     "iopub.execute_input": "2023-04-01T18:30:01.107359Z",
     "iopub.status.busy": "2023-04-01T18:30:01.106930Z",
     "iopub.status.idle": "2023-04-01T18:30:01.113659Z",
     "shell.execute_reply": "2023-04-01T18:30:01.112371Z"
    },
    "papermill": {
     "duration": 0.020086,
     "end_time": "2023-04-01T18:30:01.116501",
     "exception": false,
     "start_time": "2023-04-01T18:30:01.096415",
     "status": "completed"
    },
    "tags": []
   },
   "outputs": [
    {
     "name": "stdout",
     "output_type": "stream",
     "text": [
      "{'Exterior1st_Stone', 'Exterior2nd_Other', 'Exterior1st_ImStucc'}\n"
     ]
    }
   ],
   "source": [
    "set1 = set(x_train_impute.columns)\n",
    "set2 = set(x_test_impute.columns)\n",
    "diff = set1.symmetric_difference(set2)\n",
    "print(diff)"
   ]
  },
  {
   "cell_type": "code",
   "execution_count": 11,
   "id": "88f10eef",
   "metadata": {
    "execution": {
     "iopub.execute_input": "2023-04-01T18:30:01.137082Z",
     "iopub.status.busy": "2023-04-01T18:30:01.136395Z",
     "iopub.status.idle": "2023-04-01T18:30:01.147342Z",
     "shell.execute_reply": "2023-04-01T18:30:01.145970Z"
    },
    "papermill": {
     "duration": 0.02376,
     "end_time": "2023-04-01T18:30:01.150137",
     "exception": false,
     "start_time": "2023-04-01T18:30:01.126377",
     "status": "completed"
    },
    "tags": []
   },
   "outputs": [
    {
     "name": "stdout",
     "output_type": "stream",
     "text": [
      "(1460, 124)\n",
      "(1459, 124)\n"
     ]
    }
   ],
   "source": [
    "# These onehot columns are missing in the test data, so drop them from the\n",
    "# training data or we might overfit on them\n",
    "x_train_impute.drop(diff, axis=1, inplace=True)\n",
    "print(x_train_impute.shape)\n",
    "print(x_test_impute.shape)"
   ]
  },
  {
   "cell_type": "code",
   "execution_count": 12,
   "id": "56cd9da0",
   "metadata": {
    "execution": {
     "iopub.execute_input": "2023-04-01T18:30:01.169884Z",
     "iopub.status.busy": "2023-04-01T18:30:01.169547Z",
     "iopub.status.idle": "2023-04-01T18:30:01.200719Z",
     "shell.execute_reply": "2023-04-01T18:30:01.199226Z"
    },
    "papermill": {
     "duration": 0.043744,
     "end_time": "2023-04-01T18:30:01.203157",
     "exception": false,
     "start_time": "2023-04-01T18:30:01.159413",
     "status": "completed"
    },
    "tags": []
   },
   "outputs": [
    {
     "name": "stdout",
     "output_type": "stream",
     "text": [
      "MSSubClass        1.406210\n",
      "LotFrontage       2.382499\n",
      "LotArea          12.195142\n",
      "OverallQual       0.216721\n",
      "OverallCond       0.692355\n",
      "YearBuilt        -0.612831\n",
      "YearRemodAdd     -0.503044\n",
      "MasVnrArea        2.673661\n",
      "BsmtFinSF1        1.683771\n",
      "BsmtFinSF2        4.250888\n",
      "BsmtUnfSF         0.919323\n",
      "TotalBsmtSF       1.522688\n",
      "1stFlrSF          1.375342\n",
      "2ndFlrSF          0.812194\n",
      "LowQualFinSF      9.002080\n",
      "GrLivArea         1.365156\n",
      "BsmtFullBath      0.595454\n",
      "BsmtHalfBath      4.099186\n",
      "FullBath          0.036524\n",
      "HalfBath          0.675203\n",
      "BedroomAbvGr      0.211572\n",
      "KitchenAbvGr      4.483784\n",
      "TotRmsAbvGrd      0.675646\n",
      "Fireplaces        0.648898\n",
      "GarageYrBlt      -0.667488\n",
      "GarageCars       -0.342197\n",
      "GarageArea        0.179796\n",
      "WoodDeckSF        1.539792\n",
      "OpenPorchSF       2.361912\n",
      "EnclosedPorch     3.086696\n",
      "3SsnPorch        10.293752\n",
      "ScreenPorch       4.117977\n",
      "PoolArea         14.813135\n",
      "MiscVal          24.451640\n",
      "MoSold            0.211835\n",
      "YrSold            0.096170\n",
      "dtype: float64\n"
     ]
    },
    {
     "data": {
      "text/plain": [
       "Index(['MSSubClass', 'LotFrontage', 'LotArea', 'MasVnrArea', 'BsmtFinSF1',\n",
       "       'BsmtFinSF2', 'BsmtUnfSF', 'TotalBsmtSF', '1stFlrSF', '2ndFlrSF',\n",
       "       'LowQualFinSF', 'GrLivArea', 'BsmtHalfBath', 'KitchenAbvGr',\n",
       "       'WoodDeckSF', 'OpenPorchSF', 'EnclosedPorch', '3SsnPorch',\n",
       "       'ScreenPorch', 'PoolArea', 'MiscVal'],\n",
       "      dtype='object')"
      ]
     },
     "execution_count": 12,
     "metadata": {},
     "output_type": "execute_result"
    }
   ],
   "source": [
    "### Further we will perform the normal distribution for the numerical values by taking log(feature + 1).\n",
    "from scipy.stats import skew\n",
    "skewed = x_train_impute[train_data_numerical].apply(lambda x: skew(x.dropna().astype(float)))\n",
    "print(skewed)\n",
    "skewed = skewed[skewed > 0.75]\n",
    "skewed = skewed.index\n",
    "skewed"
   ]
  },
  {
   "cell_type": "code",
   "execution_count": 13,
   "id": "0bfd4b1e",
   "metadata": {
    "execution": {
     "iopub.execute_input": "2023-04-01T18:30:01.223758Z",
     "iopub.status.busy": "2023-04-01T18:30:01.223224Z",
     "iopub.status.idle": "2023-04-01T18:30:01.239160Z",
     "shell.execute_reply": "2023-04-01T18:30:01.237970Z"
    },
    "papermill": {
     "duration": 0.028792,
     "end_time": "2023-04-01T18:30:01.241614",
     "exception": false,
     "start_time": "2023-04-01T18:30:01.212822",
     "status": "completed"
    },
    "tags": []
   },
   "outputs": [],
   "source": [
    "# Normalize the data and then see both the Kurtosis and Skewness of the data\n",
    "x_train_impute[skewed] = np.log1p(x_train_impute[skewed])\n",
    "x_test_impute[skewed] = np.log1p(x_test_impute[skewed])"
   ]
  },
  {
   "cell_type": "code",
   "execution_count": 14,
   "id": "4973ccdf",
   "metadata": {
    "execution": {
     "iopub.execute_input": "2023-04-01T18:30:01.261978Z",
     "iopub.status.busy": "2023-04-01T18:30:01.261005Z",
     "iopub.status.idle": "2023-04-01T18:30:01.266422Z",
     "shell.execute_reply": "2023-04-01T18:30:01.265566Z"
    },
    "papermill": {
     "duration": 0.017837,
     "end_time": "2023-04-01T18:30:01.268591",
     "exception": false,
     "start_time": "2023-04-01T18:30:01.250754",
     "status": "completed"
    },
    "tags": []
   },
   "outputs": [],
   "source": [
    "y_train_norm = np.log1p(y_train)"
   ]
  },
  {
   "cell_type": "code",
   "execution_count": 15,
   "id": "fb8b3c38",
   "metadata": {
    "execution": {
     "iopub.execute_input": "2023-04-01T18:30:01.288853Z",
     "iopub.status.busy": "2023-04-01T18:30:01.288488Z",
     "iopub.status.idle": "2023-04-01T18:30:01.316349Z",
     "shell.execute_reply": "2023-04-01T18:30:01.315173Z"
    },
    "papermill": {
     "duration": 0.040964,
     "end_time": "2023-04-01T18:30:01.318814",
     "exception": false,
     "start_time": "2023-04-01T18:30:01.277850",
     "status": "completed"
    },
    "tags": []
   },
   "outputs": [
    {
     "data": {
      "text/plain": [
       "Index(['BsmtFinSF2', 'LowQualFinSF', 'BsmtHalfBath', 'KitchenAbvGr',\n",
       "       'EnclosedPorch', '3SsnPorch', 'ScreenPorch', 'PoolArea', 'MiscVal'],\n",
       "      dtype='object')"
      ]
     },
     "execution_count": 15,
     "metadata": {},
     "output_type": "execute_result"
    }
   ],
   "source": [
    "skewed = x_train_impute[train_data_numerical].apply(lambda x: skew(x.dropna().astype(float)))\n",
    "skewed = skewed[skewed > 0.75]\n",
    "skewed = skewed.index\n",
    "skewed"
   ]
  },
  {
   "cell_type": "code",
   "execution_count": 16,
   "id": "db01c354",
   "metadata": {
    "execution": {
     "iopub.execute_input": "2023-04-01T18:30:01.339128Z",
     "iopub.status.busy": "2023-04-01T18:30:01.338495Z",
     "iopub.status.idle": "2023-04-01T18:30:01.366603Z",
     "shell.execute_reply": "2023-04-01T18:30:01.365446Z"
    },
    "papermill": {
     "duration": 0.040997,
     "end_time": "2023-04-01T18:30:01.369023",
     "exception": false,
     "start_time": "2023-04-01T18:30:01.328026",
     "status": "completed"
    },
    "tags": []
   },
   "outputs": [
    {
     "data": {
      "text/plain": [
       "Index(['TotalBsmtSF', 'LowQualFinSF', 'BsmtHalfBath', 'KitchenAbvGr',\n",
       "       '3SsnPorch', 'PoolArea', 'MiscVal'],\n",
       "      dtype='object')"
      ]
     },
     "execution_count": 16,
     "metadata": {},
     "output_type": "execute_result"
    }
   ],
   "source": [
    "# kurtosis = train_data2[num_cols].apply(lambda x: kurtosis(x.dropna().astype(float)))\n",
    "import scipy.stats as stats\n",
    "import numpy as np\n",
    "kurtosis_data2 = x_train_impute[train_data_numerical].apply(lambda x: stats.kurtosis(x.dropna().astype(float)))\n",
    "kurtosis_data2 = kurtosis_data2[kurtosis_data2 > 10]\n",
    "kurtosis_2 = kurtosis_data2.index\n",
    "kurtosis_2"
   ]
  },
  {
   "cell_type": "code",
   "execution_count": 17,
   "id": "7cd4d045",
   "metadata": {
    "execution": {
     "iopub.execute_input": "2023-04-01T18:30:01.389630Z",
     "iopub.status.busy": "2023-04-01T18:30:01.389225Z",
     "iopub.status.idle": "2023-04-01T18:30:01.396118Z",
     "shell.execute_reply": "2023-04-01T18:30:01.395099Z"
    },
    "papermill": {
     "duration": 0.019865,
     "end_time": "2023-04-01T18:30:01.398393",
     "exception": false,
     "start_time": "2023-04-01T18:30:01.378528",
     "status": "completed"
    },
    "tags": []
   },
   "outputs": [
    {
     "data": {
      "text/plain": [
       "list"
      ]
     },
     "execution_count": 17,
     "metadata": {},
     "output_type": "execute_result"
    }
   ],
   "source": [
    "common1 = list(set(skewed.tolist()) & set(kurtosis_2.tolist()))\n",
    "type(common1)"
   ]
  },
  {
   "cell_type": "code",
   "execution_count": 18,
   "id": "5ba21b10",
   "metadata": {
    "execution": {
     "iopub.execute_input": "2023-04-01T18:30:01.419357Z",
     "iopub.status.busy": "2023-04-01T18:30:01.418976Z",
     "iopub.status.idle": "2023-04-01T18:30:01.427849Z",
     "shell.execute_reply": "2023-04-01T18:30:01.426641Z"
    },
    "papermill": {
     "duration": 0.023109,
     "end_time": "2023-04-01T18:30:01.430759",
     "exception": false,
     "start_time": "2023-04-01T18:30:01.407650",
     "status": "completed"
    },
    "tags": []
   },
   "outputs": [
    {
     "name": "stdout",
     "output_type": "stream",
     "text": [
      "(1460, 118)\n",
      "(1459, 118)\n"
     ]
    }
   ],
   "source": [
    "x_train_impute = x_train_impute.drop(common1, axis=1)\n",
    "x_test_impute = x_test_impute.drop(common1, axis=1)\n",
    "print(x_train_impute.shape)\n",
    "print(x_test_impute.shape)"
   ]
  },
  {
   "cell_type": "code",
   "execution_count": 19,
   "id": "c68b8abc",
   "metadata": {
    "execution": {
     "iopub.execute_input": "2023-04-01T18:30:01.453549Z",
     "iopub.status.busy": "2023-04-01T18:30:01.452464Z",
     "iopub.status.idle": "2023-04-01T18:30:01.459798Z",
     "shell.execute_reply": "2023-04-01T18:30:01.458702Z"
    },
    "papermill": {
     "duration": 0.020429,
     "end_time": "2023-04-01T18:30:01.461992",
     "exception": false,
     "start_time": "2023-04-01T18:30:01.441563",
     "status": "completed"
    },
    "tags": []
   },
   "outputs": [],
   "source": [
    "x_train_impute_array = x_train_impute.to_numpy()\n",
    "x_test_impute_array = x_test_impute.to_numpy()"
   ]
  },
  {
   "cell_type": "code",
   "execution_count": 20,
   "id": "1b2f92f5",
   "metadata": {
    "execution": {
     "iopub.execute_input": "2023-04-01T18:30:01.482342Z",
     "iopub.status.busy": "2023-04-01T18:30:01.481923Z",
     "iopub.status.idle": "2023-04-01T18:30:01.525593Z",
     "shell.execute_reply": "2023-04-01T18:30:01.523945Z"
    },
    "papermill": {
     "duration": 0.058801,
     "end_time": "2023-04-01T18:30:01.530261",
     "exception": false,
     "start_time": "2023-04-01T18:30:01.471460",
     "status": "completed"
    },
    "tags": []
   },
   "outputs": [
    {
     "data": {
      "text/plain": [
       "SelectKBest(k='all', score_func=<function f_regression at 0x7f023c13dd40>)"
      ]
     },
     "execution_count": 20,
     "metadata": {},
     "output_type": "execute_result"
    }
   ],
   "source": [
    "from sklearn.feature_selection import f_regression, SelectKBest\n",
    "# configure to select all features\n",
    "fs = SelectKBest(score_func=f_regression, k='all')\n",
    "# learn relationship from training data\n",
    "fs.fit(x_train_impute_array, y_train_norm)"
   ]
  },
  {
   "cell_type": "code",
   "execution_count": 21,
   "id": "b6494a22",
   "metadata": {
    "execution": {
     "iopub.execute_input": "2023-04-01T18:30:01.583403Z",
     "iopub.status.busy": "2023-04-01T18:30:01.582488Z",
     "iopub.status.idle": "2023-04-01T18:30:01.604117Z",
     "shell.execute_reply": "2023-04-01T18:30:01.602483Z"
    },
    "papermill": {
     "duration": 0.052892,
     "end_time": "2023-04-01T18:30:01.608636",
     "exception": false,
     "start_time": "2023-04-01T18:30:01.555744",
     "status": "completed"
    },
    "tags": []
   },
   "outputs": [
    {
     "data": {
      "text/plain": [
       "(1460, 38)"
      ]
     },
     "execution_count": 21,
     "metadata": {},
     "output_type": "execute_result"
    }
   ],
   "source": [
    "x_train_impute_sel = x_train_impute.iloc[:,(i for i in range(len(fs.scores_)) if fs.scores_ [i] > 80)]\n",
    "x_train_impute_sel.shape"
   ]
  },
  {
   "cell_type": "code",
   "execution_count": 22,
   "id": "b6e5085c",
   "metadata": {
    "execution": {
     "iopub.execute_input": "2023-04-01T18:30:01.642182Z",
     "iopub.status.busy": "2023-04-01T18:30:01.641818Z",
     "iopub.status.idle": "2023-04-01T18:30:01.646953Z",
     "shell.execute_reply": "2023-04-01T18:30:01.646158Z"
    },
    "papermill": {
     "duration": 0.01795,
     "end_time": "2023-04-01T18:30:01.648883",
     "exception": false,
     "start_time": "2023-04-01T18:30:01.630933",
     "status": "completed"
    },
    "tags": []
   },
   "outputs": [],
   "source": [
    "x_test_impute_sel=x_test_impute[x_train_impute_sel.columns]"
   ]
  },
  {
   "cell_type": "code",
   "execution_count": 23,
   "id": "03f16e1c",
   "metadata": {
    "execution": {
     "iopub.execute_input": "2023-04-01T18:30:01.669651Z",
     "iopub.status.busy": "2023-04-01T18:30:01.669004Z",
     "iopub.status.idle": "2023-04-01T18:30:01.674046Z",
     "shell.execute_reply": "2023-04-01T18:30:01.672999Z"
    },
    "papermill": {
     "duration": 0.01818,
     "end_time": "2023-04-01T18:30:01.676597",
     "exception": false,
     "start_time": "2023-04-01T18:30:01.658417",
     "status": "completed"
    },
    "tags": []
   },
   "outputs": [],
   "source": [
    "x_train_impute_sel_array = x_train_impute_sel.to_numpy()\n",
    "x_test_impute_sel_array = x_test_impute_sel.to_numpy()"
   ]
  },
  {
   "cell_type": "code",
   "execution_count": 24,
   "id": "99d8cfd9",
   "metadata": {
    "execution": {
     "iopub.execute_input": "2023-04-01T18:30:01.697965Z",
     "iopub.status.busy": "2023-04-01T18:30:01.697175Z",
     "iopub.status.idle": "2023-04-01T18:30:21.175154Z",
     "shell.execute_reply": "2023-04-01T18:30:21.173934Z"
    },
    "papermill": {
     "duration": 19.491721,
     "end_time": "2023-04-01T18:30:21.177852",
     "exception": false,
     "start_time": "2023-04-01T18:30:01.686131",
     "status": "completed"
    },
    "tags": []
   },
   "outputs": [
    {
     "name": "stdout",
     "output_type": "stream",
     "text": [
      "LinearRegression: 0.14 (+/- 0.02)\n",
      "Ridge: 0.14 (+/- 0.02)\n",
      "Lasso: 0.27 (+/- 0.01)\n",
      "DecisionTreeRegressor: 0.21 (+/- 0.01)\n",
      "RandomForestRegressor: 0.15 (+/- 0.01)\n",
      "GradientBoostingRegressor: 0.14 (+/- 0.01)\n",
      "AdaBoostRegressor: 0.18 (+/- 0.00)\n",
      "LinearRegression: 0.87 (+/- 0.03)\n",
      "Ridge: 0.87 (+/- 0.03)\n",
      "Lasso: 0.55 (+/- 0.04)\n",
      "DecisionTreeRegressor: 0.73 (+/- 0.03)\n",
      "RandomForestRegressor: 0.86 (+/- 0.01)\n",
      "GradientBoostingRegressor: 0.88 (+/- 0.01)\n",
      "AdaBoostRegressor: 0.80 (+/- 0.02)\n"
     ]
    }
   ],
   "source": [
    "## Applying multiple regression model to see which is the best \n",
    "from sklearn.linear_model import LinearRegression, Ridge, Lasso\n",
    "from sklearn.tree import DecisionTreeRegressor\n",
    "from sklearn.ensemble import RandomForestRegressor, GradientBoostingRegressor, AdaBoostRegressor\n",
    "from sklearn.model_selection import cross_val_score\n",
    "\n",
    "# Define a list of regression models to compare\n",
    "models = [LinearRegression(),\n",
    "          Ridge(alpha=1.0),\n",
    "          Lasso(alpha=1.0),\n",
    "          DecisionTreeRegressor(),\n",
    "          RandomForestRegressor(n_estimators=100),\n",
    "          GradientBoostingRegressor(n_estimators=100),\n",
    "          AdaBoostRegressor(n_estimators=100)]\n",
    "\n",
    "# Evaluate each model using cross-validation\n",
    "for model in models:\n",
    "    scores = cross_val_score(model, x_train_impute_sel_array, y_train_norm, cv=5,scoring='neg_root_mean_squared_error')\n",
    "    print(\"{}: {:.2f} (+/- {:.2f})\".format(model.__class__.__name__, -scores.mean(), scores.std()))\n",
    "\n",
    "for model in models:\n",
    "    scores = cross_val_score(model, x_train_impute_sel_array, y_train_norm, cv=5,scoring='r2')\n",
    "    print(\"{}: {:.2f} (+/- {:.2f})\".format(model.__class__.__name__, scores.mean(), scores.std()))\n"
   ]
  },
  {
   "cell_type": "code",
   "execution_count": 25,
   "id": "79c087b5",
   "metadata": {
    "execution": {
     "iopub.execute_input": "2023-04-01T18:30:21.200687Z",
     "iopub.status.busy": "2023-04-01T18:30:21.200068Z",
     "iopub.status.idle": "2023-04-01T18:30:21.209754Z",
     "shell.execute_reply": "2023-04-01T18:30:21.208604Z"
    },
    "papermill": {
     "duration": 0.023409,
     "end_time": "2023-04-01T18:30:21.212087",
     "exception": false,
     "start_time": "2023-04-01T18:30:21.188678",
     "status": "completed"
    },
    "tags": []
   },
   "outputs": [
    {
     "data": {
      "text/plain": [
       "0       12.247699\n",
       "1       12.109016\n",
       "2       12.317171\n",
       "3       11.849405\n",
       "4       12.429220\n",
       "          ...    \n",
       "1455    12.072547\n",
       "1456    12.254868\n",
       "1457    12.493133\n",
       "1458    11.864469\n",
       "1459    11.901590\n",
       "Name: SalePrice, Length: 1460, dtype: float64"
      ]
     },
     "execution_count": 25,
     "metadata": {},
     "output_type": "execute_result"
    }
   ],
   "source": [
    "y_train_norm"
   ]
  },
  {
   "cell_type": "code",
   "execution_count": 26,
   "id": "330d3a48",
   "metadata": {
    "execution": {
     "iopub.execute_input": "2023-04-01T18:30:21.234617Z",
     "iopub.status.busy": "2023-04-01T18:30:21.233819Z",
     "iopub.status.idle": "2023-04-01T18:30:21.249392Z",
     "shell.execute_reply": "2023-04-01T18:30:21.247743Z"
    },
    "papermill": {
     "duration": 0.032219,
     "end_time": "2023-04-01T18:30:21.254577",
     "exception": false,
     "start_time": "2023-04-01T18:30:21.222358",
     "status": "completed"
    },
    "tags": []
   },
   "outputs": [
    {
     "name": "stdout",
     "output_type": "stream",
     "text": [
      "Selected features: [14 16 17 29 39 46 50 53]\n"
     ]
    }
   ],
   "source": [
    "from sklearn.linear_model import Lasso\n",
    "\n",
    "# Fit the Lasso model to the data\n",
    "lasso = Lasso(alpha=0.1) # alpha is the regularization parameter\n",
    "lasso.fit(x_train_impute_array, y_train_norm)\n",
    "\n",
    "# Get the coefficients and print the selected features\n",
    "coefficients = lasso.coef_\n",
    "selected_features = np.where(coefficients != 0)[0]\n",
    "print(\"Selected features:\", selected_features)\n"
   ]
  },
  {
   "cell_type": "code",
   "execution_count": 27,
   "id": "4a5f5bd7",
   "metadata": {
    "execution": {
     "iopub.execute_input": "2023-04-01T18:30:21.311450Z",
     "iopub.status.busy": "2023-04-01T18:30:21.310723Z",
     "iopub.status.idle": "2023-04-01T18:30:21.323860Z",
     "shell.execute_reply": "2023-04-01T18:30:21.322213Z"
    },
    "papermill": {
     "duration": 0.047028,
     "end_time": "2023-04-01T18:30:21.328720",
     "exception": false,
     "start_time": "2023-04-01T18:30:21.281692",
     "status": "completed"
    },
    "tags": []
   },
   "outputs": [],
   "source": [
    "x_train_impute_lasso_features = x_train_impute.iloc[:,selected_features]\n",
    "x_train_impute_lasso_features_array = x_train_impute_lasso_features.to_numpy()"
   ]
  },
  {
   "cell_type": "code",
   "execution_count": 28,
   "id": "625d2d07",
   "metadata": {
    "execution": {
     "iopub.execute_input": "2023-04-01T18:30:21.372706Z",
     "iopub.status.busy": "2023-04-01T18:30:21.372317Z",
     "iopub.status.idle": "2023-04-01T18:30:30.812745Z",
     "shell.execute_reply": "2023-04-01T18:30:30.811330Z"
    },
    "papermill": {
     "duration": 9.459726,
     "end_time": "2023-04-01T18:30:30.815439",
     "exception": false,
     "start_time": "2023-04-01T18:30:21.355713",
     "status": "completed"
    },
    "tags": []
   },
   "outputs": [
    {
     "name": "stdout",
     "output_type": "stream",
     "text": [
      "LinearRegression: 0.18 (+/- 0.01)\n",
      "Ridge: 0.18 (+/- 0.01)\n",
      "Lasso: 0.27 (+/- 0.01)\n",
      "DecisionTreeRegressor: 0.24 (+/- 0.01)\n",
      "RandomForestRegressor: 0.18 (+/- 0.00)\n",
      "GradientBoostingRegressor: 0.17 (+/- 0.01)\n",
      "AdaBoostRegressor: 0.20 (+/- 0.01)\n",
      "LinearRegression: 0.80 (+/- 0.03)\n",
      "Ridge: 0.80 (+/- 0.03)\n",
      "Lasso: 0.55 (+/- 0.04)\n",
      "DecisionTreeRegressor: 0.65 (+/- 0.04)\n",
      "RandomForestRegressor: 0.80 (+/- 0.01)\n",
      "GradientBoostingRegressor: 0.82 (+/- 0.01)\n",
      "AdaBoostRegressor: 0.76 (+/- 0.03)\n"
     ]
    }
   ],
   "source": [
    "## Applying multiple regression model to see which is the best \n",
    "from sklearn.linear_model import LinearRegression, Ridge, Lasso\n",
    "from sklearn.tree import DecisionTreeRegressor\n",
    "from sklearn.ensemble import RandomForestRegressor, GradientBoostingRegressor, AdaBoostRegressor\n",
    "from sklearn.model_selection import cross_val_score\n",
    "\n",
    "# Define a list of regression models to compare\n",
    "models = [LinearRegression(),\n",
    "          Ridge(alpha=1.0),\n",
    "          Lasso(alpha=1.0),\n",
    "          DecisionTreeRegressor(),\n",
    "          RandomForestRegressor(n_estimators=100),\n",
    "          GradientBoostingRegressor(n_estimators=100),\n",
    "          AdaBoostRegressor(n_estimators=100)]\n",
    "\n",
    "# Evaluate each model using cross-validation\n",
    "for model in models:\n",
    "    scores = cross_val_score(model, x_train_impute_lasso_features_array, y_train_norm, cv=5,scoring='neg_root_mean_squared_error')\n",
    "    print(\"{}: {:.2f} (+/- {:.2f})\".format(model.__class__.__name__, -scores.mean(), scores.std()))\n",
    "\n",
    "for model in models:\n",
    "    scores = cross_val_score(model, x_train_impute_lasso_features_array, y_train_norm, cv=5,scoring='r2')\n",
    "    print(\"{}: {:.2f} (+/- {:.2f})\".format(model.__class__.__name__, scores.mean(), scores.std()))\n"
   ]
  },
  {
   "cell_type": "code",
   "execution_count": 29,
   "id": "50f8e1ae",
   "metadata": {
    "execution": {
     "iopub.execute_input": "2023-04-01T18:30:30.839115Z",
     "iopub.status.busy": "2023-04-01T18:30:30.838751Z",
     "iopub.status.idle": "2023-04-01T18:31:09.348448Z",
     "shell.execute_reply": "2023-04-01T18:31:09.347585Z"
    },
    "papermill": {
     "duration": 38.535433,
     "end_time": "2023-04-01T18:31:09.361995",
     "exception": false,
     "start_time": "2023-04-01T18:30:30.826562",
     "status": "completed"
    },
    "tags": []
   },
   "outputs": [
    {
     "data": {
      "text/html": [
       "<style type='text/css'>\n",
       ".datatable table.frame { margin-bottom: 0; }\n",
       ".datatable table.frame thead { border-bottom: none; }\n",
       ".datatable table.frame tr.coltypes td {  color: #FFFFFF;  line-height: 6px;  padding: 0 0.5em;}\n",
       ".datatable .bool    { background: #DDDD99; }\n",
       ".datatable .object  { background: #565656; }\n",
       ".datatable .int     { background: #5D9E5D; }\n",
       ".datatable .float   { background: #4040CC; }\n",
       ".datatable .str     { background: #CC4040; }\n",
       ".datatable .time    { background: #40CC40; }\n",
       ".datatable .row_index {  background: var(--jp-border-color3);  border-right: 1px solid var(--jp-border-color0);  color: var(--jp-ui-font-color3);  font-size: 9px;}\n",
       ".datatable .frame tbody td { text-align: left; }\n",
       ".datatable .frame tr.coltypes .row_index {  background: var(--jp-border-color0);}\n",
       ".datatable th:nth-child(2) { padding-left: 12px; }\n",
       ".datatable .hellipsis {  color: var(--jp-cell-editor-border-color);}\n",
       ".datatable .vellipsis {  background: var(--jp-layout-color0);  color: var(--jp-cell-editor-border-color);}\n",
       ".datatable .na {  color: var(--jp-cell-editor-border-color);  font-size: 80%;}\n",
       ".datatable .sp {  opacity: 0.25;}\n",
       ".datatable .footer { font-size: 9px; }\n",
       ".datatable .frame_dimensions {  background: var(--jp-border-color3);  border-top: 1px solid var(--jp-border-color0);  color: var(--jp-ui-font-color3);  display: inline-block;  opacity: 0.6;  padding: 1px 10px 1px 5px;}\n",
       "</style>\n"
      ],
      "text/plain": [
       "<IPython.core.display.HTML object>"
      ]
     },
     "metadata": {},
     "output_type": "display_data"
    },
    {
     "name": "stdout",
     "output_type": "stream",
     "text": [
      "GradientBoostingRegressor: 0.14 (+/- 0.01)\n",
      "XGBRegressor: 0.15 (+/- 0.01)\n",
      "LGBMRegressor: 0.14 (+/- 0.01)\n",
      "CatBoostRegressor: 0.14 (+/- 0.01)\n",
      "GradientBoostingRegressor: 0.88 (+/- 0.01)\n",
      "XGBRegressor: 0.86 (+/- 0.01)\n",
      "LGBMRegressor: 0.87 (+/- 0.01)\n",
      "CatBoostRegressor: 0.88 (+/- 0.01)\n"
     ]
    }
   ],
   "source": [
    "# Since Gradient Boost is the best out of all the method when we took the best features\n",
    "# We will apply different Gradient boost method to see which one is the best\n",
    "from sklearn.ensemble import GradientBoostingRegressor\n",
    "import xgboost as xgb\n",
    "import lightgbm as lgb\n",
    "from catboost import CatBoostRegressor\n",
    "\n",
    "\n",
    "# Define the list of models to train\n",
    "models = [\n",
    "    (\"Gradient Boosting Machine (GBM)\", GradientBoostingRegressor()),\n",
    "    (\"Extreme Gradient Boosting (XGBoost)\", xgb.XGBRegressor()),\n",
    "    (\"Light Gradient Boosting Machine (LightGBM)\", lgb.LGBMRegressor()),\n",
    "    (\"CatBoost\", CatBoostRegressor(logging_level=\"Silent\"))\n",
    "]\n",
    "\n",
    "# Train and evaluate each model\n",
    "for name,model in models:\n",
    "    scores = cross_val_score(model, x_train_impute_sel_array, y_train_norm, cv=5,scoring='neg_root_mean_squared_error')\n",
    "    print(\"{}: {:.2f} (+/- {:.2f})\".format(model.__class__.__name__, -scores.mean(), scores.std()))\n",
    "\n",
    "for name,model in models:\n",
    "    scores = cross_val_score(model, x_train_impute_sel_array, y_train_norm, cv=5,scoring='r2')\n",
    "    print(\"{}: {:.2f} (+/- {:.2f})\".format(model.__class__.__name__, scores.mean(), scores.std()))    \n"
   ]
  },
  {
   "cell_type": "code",
   "execution_count": 30,
   "id": "2417a786",
   "metadata": {
    "execution": {
     "iopub.execute_input": "2023-04-01T18:31:09.387538Z",
     "iopub.status.busy": "2023-04-01T18:31:09.386913Z",
     "iopub.status.idle": "2023-04-01T18:31:09.881068Z",
     "shell.execute_reply": "2023-04-01T18:31:09.880005Z"
    },
    "papermill": {
     "duration": 0.509173,
     "end_time": "2023-04-01T18:31:09.883486",
     "exception": false,
     "start_time": "2023-04-01T18:31:09.374313",
     "status": "completed"
    },
    "tags": []
   },
   "outputs": [
    {
     "data": {
      "text/plain": [
       "GradientBoostingRegressor()"
      ]
     },
     "execution_count": 30,
     "metadata": {},
     "output_type": "execute_result"
    }
   ],
   "source": [
    "## The Gradient Boost has the best performance \n",
    "gbm = GradientBoostingRegressor()\n",
    "gbm.fit(x_train_impute_sel_array,y_train_norm)"
   ]
  },
  {
   "cell_type": "code",
   "execution_count": 31,
   "id": "4f4bb023",
   "metadata": {
    "execution": {
     "iopub.execute_input": "2023-04-01T18:31:09.908925Z",
     "iopub.status.busy": "2023-04-01T18:31:09.908519Z",
     "iopub.status.idle": "2023-04-01T18:31:09.916587Z",
     "shell.execute_reply": "2023-04-01T18:31:09.915614Z"
    },
    "papermill": {
     "duration": 0.023677,
     "end_time": "2023-04-01T18:31:09.918886",
     "exception": false,
     "start_time": "2023-04-01T18:31:09.895209",
     "status": "completed"
    },
    "tags": []
   },
   "outputs": [],
   "source": [
    "y_predict=gbm.predict(x_test_impute_sel_array)"
   ]
  },
  {
   "cell_type": "code",
   "execution_count": 32,
   "id": "09b44d06",
   "metadata": {
    "execution": {
     "iopub.execute_input": "2023-04-01T18:31:09.944394Z",
     "iopub.status.busy": "2023-04-01T18:31:09.943989Z",
     "iopub.status.idle": "2023-04-01T18:31:09.948952Z",
     "shell.execute_reply": "2023-04-01T18:31:09.947811Z"
    },
    "papermill": {
     "duration": 0.020695,
     "end_time": "2023-04-01T18:31:09.951419",
     "exception": false,
     "start_time": "2023-04-01T18:31:09.930724",
     "status": "completed"
    },
    "tags": []
   },
   "outputs": [],
   "source": [
    "y_pred=np.exp(y_predict)"
   ]
  },
  {
   "cell_type": "code",
   "execution_count": 33,
   "id": "c2ffc647",
   "metadata": {
    "execution": {
     "iopub.execute_input": "2023-04-01T18:31:09.976917Z",
     "iopub.status.busy": "2023-04-01T18:31:09.976520Z",
     "iopub.status.idle": "2023-04-01T18:31:09.991302Z",
     "shell.execute_reply": "2023-04-01T18:31:09.990339Z"
    },
    "papermill": {
     "duration": 0.030567,
     "end_time": "2023-04-01T18:31:09.993692",
     "exception": false,
     "start_time": "2023-04-01T18:31:09.963125",
     "status": "completed"
    },
    "tags": []
   },
   "outputs": [],
   "source": [
    "pred_df = pd.DataFrame(y_pred, index=test_data[\"Id\"], columns=[\"SalePrice\"])\n",
    "pred_df.to_csv('submission.csv', header=True, index_label='Id')"
   ]
  },
  {
   "cell_type": "code",
   "execution_count": 34,
   "id": "f299f795",
   "metadata": {
    "execution": {
     "iopub.execute_input": "2023-04-01T18:31:10.018826Z",
     "iopub.status.busy": "2023-04-01T18:31:10.018439Z",
     "iopub.status.idle": "2023-04-01T18:31:10.025464Z",
     "shell.execute_reply": "2023-04-01T18:31:10.024244Z"
    },
    "papermill": {
     "duration": 0.022461,
     "end_time": "2023-04-01T18:31:10.027860",
     "exception": false,
     "start_time": "2023-04-01T18:31:10.005399",
     "status": "completed"
    },
    "tags": []
   },
   "outputs": [
    {
     "data": {
      "text/plain": [
       "'/kaggle/working'"
      ]
     },
     "execution_count": 34,
     "metadata": {},
     "output_type": "execute_result"
    }
   ],
   "source": [
    "os.getcwd()"
   ]
  },
  {
   "cell_type": "code",
   "execution_count": null,
   "id": "e922d35c",
   "metadata": {
    "papermill": {
     "duration": 0.011361,
     "end_time": "2023-04-01T18:31:10.050956",
     "exception": false,
     "start_time": "2023-04-01T18:31:10.039595",
     "status": "completed"
    },
    "tags": []
   },
   "outputs": [],
   "source": []
  }
 ],
 "metadata": {
  "kernelspec": {
   "display_name": "Python 3",
   "language": "python",
   "name": "python3"
  },
  "language_info": {
   "codemirror_mode": {
    "name": "ipython",
    "version": 3
   },
   "file_extension": ".py",
   "mimetype": "text/x-python",
   "name": "python",
   "nbconvert_exporter": "python",
   "pygments_lexer": "ipython3",
   "version": "3.7.12"
  },
  "papermill": {
   "default_parameters": {},
   "duration": 81.305112,
   "end_time": "2023-04-01T18:31:10.885041",
   "environment_variables": {},
   "exception": null,
   "input_path": "__notebook__.ipynb",
   "output_path": "__notebook__.ipynb",
   "parameters": {},
   "start_time": "2023-04-01T18:29:49.579929",
   "version": "2.4.0"
  }
 },
 "nbformat": 4,
 "nbformat_minor": 5
}
